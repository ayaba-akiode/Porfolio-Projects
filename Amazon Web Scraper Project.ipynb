{
 "cells": [
  {
   "cell_type": "markdown",
   "id": "d27a5e7e",
   "metadata": {},
   "source": [
    "# Amazon Web Scraper Project"
   ]
  },
  {
   "cell_type": "code",
   "execution_count": 1,
   "id": "282088b6",
   "metadata": {},
   "outputs": [],
   "source": [
    "# import libraries \n",
    "\n",
    "from bs4 import BeautifulSoup\n",
    "import requests\n",
    "import time\n",
    "import datetime\n",
    "\n",
    "import smtplib"
   ]
  },
  {
   "cell_type": "code",
   "execution_count": 50,
   "id": "3363f2c3",
   "metadata": {},
   "outputs": [
    {
     "name": "stdout",
     "output_type": "stream",
     "text": [
      "Just explaining why I'm right Funny Data Analyst T-Shirt\n",
      "£17.49\n"
     ]
    }
   ],
   "source": [
    "# Connect to website, copy and paste URL of the website\n",
    "\n",
    "URL = 'https://www.amazon.co.uk/explaining-right-Funny-Analyst-T-Shirt/dp/B08XYL6GRM/ref=sr_1_4?crid=2LFC2UKCQBC0O&keywords=data+analyst+tshirt&qid=1679915660&sprefix=data+analyst+%2Caps%2C99&sr=8-4'\n",
    "\n",
    "headers = {\"User-Agent\": \"Mozilla/5.0 (Macintosh; Intel Mac OS X 10_15_7) AppleWebKit/537.36 (KHTML, like Gecko) Chrome/111.0.0.0 Safari/537.36\"}\n",
    "           \n",
    "page = requests.get(URL, headers=headers)\n",
    "\n",
    "soup1 = BeautifulSoup(page.content, \"html.parser\")\n",
    "\n",
    "soup2 = BeautifulSoup(soup1.prettify(), \"html.parser\")\n",
    "\n",
    "title = soup2.find(id='productTitle').text.strip()\n",
    "\n",
    "#price = soup2.find(id=\"apex_desktop\").get_text()\n",
    "\n",
    "price = soup2.find(\"span\", attrs={\"class\":'a-price aok-align-center reinventPricePriceToPayMargin priceToPay'}).find(\"span\", attrs={\"class\":'a-offscreen'}).text.strip()\n",
    "\n",
    "\n",
    "print(title)\n",
    "#print(price)\n",
    "#pull all the content from the page with:\n",
    "print(price)\n",
    "\n",
    "\n",
    "\n",
    "\n",
    "\n",
    "\n"
   ]
  },
  {
   "cell_type": "code",
   "execution_count": 54,
   "id": "06796c65",
   "metadata": {},
   "outputs": [
    {
     "name": "stdout",
     "output_type": "stream",
     "text": [
      "2023-03-27\n"
     ]
    }
   ],
   "source": [
    "# Creating a timestamp to track what date data was collected\n",
    "\n",
    "import datetime\n",
    "\n",
    "today = datetime.date.today()\n",
    "\n",
    "print(today)"
   ]
  },
  {
   "cell_type": "code",
   "execution_count": 59,
   "id": "0e0073b7",
   "metadata": {},
   "outputs": [],
   "source": [
    "#create csv and import files into it\n",
    "import csv\n",
    "header = ['Title', 'Price', 'Date']\n",
    "data = [title, price,today]\n",
    "\n",
    "with open('AmazonDataScraper.csv', 'w', newline='', encoding='UTF8') as f:\n",
    "    writer = csv.writer(f)\n",
    "    writer.writerow(header)\n",
    "    writer.writerow(data)"
   ]
  },
  {
   "cell_type": "code",
   "execution_count": 62,
   "id": "6ac0419f",
   "metadata": {},
   "outputs": [
    {
     "name": "stdout",
     "output_type": "stream",
     "text": [
      "                                               Title   Price        Date\n",
      "0  Just explaining why I'm right Funny Data Analy...  £17.49  2023-03-27\n",
      "1  Just explaining why I'm right Funny Data Analy...  £17.49  2023-03-27\n"
     ]
    }
   ],
   "source": [
    "import pandas as pd\n",
    "\n",
    "df = pd.read_csv(r'/Users/oluwakemiakiode/python files/AmazonDataScraper.csv')\n",
    "\n",
    "print(df)"
   ]
  },
  {
   "cell_type": "code",
   "execution_count": 61,
   "id": "04242e6f",
   "metadata": {},
   "outputs": [],
   "source": [
    "#Append data to the csv,a-append\n",
    "\n",
    "with open('AmazonDataScraper.csv', 'a+', newline='', encoding='UTF8') as f:\n",
    "    writer = csv.writer(f)\n",
    "    writer.writerow(data)"
   ]
  },
  {
   "cell_type": "code",
   "execution_count": null,
   "id": "ce751076",
   "metadata": {},
   "outputs": [],
   "source": [
    "# create a function to put the entire code into\n",
    "\n",
    "def check_price():\n",
    "    URL = 'https://www.amazon.co.uk/explaining-right-Funny-Analyst-T-Shirt/dp/B08XYL6GRM/ref=sr_1_4?crid=2LFC2UKCQBC0O&keywords=data+analyst+tshirt&qid=1679915660&sprefix=data+analyst+%2Caps%2C99&sr=8-4'\n",
    "\n",
    "    headers = {\"User-Agent\": \"Mozilla/5.0 (Macintosh; Intel Mac OS X 10_15_7) AppleWebKit/537.36 (KHTML, like Gecko) Chrome/111.0.0.0 Safari/537.36\"}\n",
    "           \n",
    "    page = requests.get(URL, headers=headers)\n",
    "\n",
    "    soup1 = BeautifulSoup(page.content, \"html.parser\")\n",
    "\n",
    "    soup2 = BeautifulSoup(soup1.prettify(), \"html.parser\")\n",
    "\n",
    "    title = soup2.find(id='productTitle').text.strip()\n",
    "\n",
    "    price = soup2.find(\"span\", attrs={\"class\":'a-price aok-align-center reinventPricePriceToPayMargin priceToPay'}).find(\"span\", attrs={\"class\":'a-offscreen'}).text.strip()\n",
    "    \n",
    "    import datetime\n",
    "\n",
    "    today = datetime.date.today()\n",
    "\n",
    "    import csv\n",
    "    header = ['Title', 'Price', 'Date']\n",
    "    data = [title, price,today]\n",
    "\n",
    "    with open('AmazonDataScraper.csv', 'a+', newline='', encoding='UTF8') as f:\n",
    "        writer = csv.writer(f)\n",
    "        writer.writerow(data)\n",
    "        \n",
    "        if (price < £15):\n",
    "            send_mail()\n",
    "        \n",
    "\n",
    "    \n"
   ]
  },
  {
   "cell_type": "code",
   "execution_count": null,
   "id": "28dacb1a",
   "metadata": {},
   "outputs": [],
   "source": [
    "# We need to run price check after a set time(in seconds) and input the new data into the CSV file, 86400seconds is 24hours\n",
    "\n",
    "while(True):\n",
    "    check_price()\n",
    "    time.sleep(86400)\n",
    "    "
   ]
  },
  {
   "cell_type": "code",
   "execution_count": null,
   "id": "78b204ce",
   "metadata": {},
   "outputs": [],
   "source": [
    "import pandas as pd\n",
    "\n",
    "df = pd.read_csv(r'/Users/oluwakemiakiode/python files/AmazonDataScraper.csv')\n",
    "\n",
    "print(df)"
   ]
  },
  {
   "cell_type": "code",
   "execution_count": null,
   "id": "7ff68bf1",
   "metadata": {},
   "outputs": [],
   "source": [
    "# Send an email when a price hits below a certain level\n",
    "\n",
    "def send_mail():\n",
    "    server = smtplib.SMTP_SSL('smtp.gmail.com',465)\n",
    "    server.ehlo()\n",
    "    #server.starttls()\n",
    "    server.ehlo()\n",
    "    server.login('ayabaakiode@gmail.com','xxxxxxxxxxxxxx')\n",
    "    \n",
    "    subject = \"The Shirt you want is below £15! Now is your chance to buy!\"\n",
    "    body = \"Kemi, This is the moment we have been waiting for. Now is your chance to pick up the shirt of your dreams. Don't mess it up! Link here: https://www.amazon.co.uk/explaining-right-Funny-Analyst-T-Shirt/dp/B08XYL6GRM/ref=sr_1_4?crid=2LFC2UKCQBC0O&keywords=data+analyst+tshirt&qid=1679915660&sprefix=data+analyst+%2Caps%2C99&sr=8-4\"\n",
    "    \n",
    "    msg = f\"Subject: {subject}\\n\\n{body}\"\n",
    "    \n",
    "    server.sendmail(\n",
    "        'ayabaakiode@gmail.com',\n",
    "        msg\n",
    "     \n",
    "    )"
   ]
  },
  {
   "cell_type": "code",
   "execution_count": null,
   "id": "f92a61ce",
   "metadata": {},
   "outputs": [],
   "source": []
  },
  {
   "cell_type": "code",
   "execution_count": null,
   "id": "0b62e109",
   "metadata": {},
   "outputs": [],
   "source": []
  },
  {
   "cell_type": "code",
   "execution_count": null,
   "id": "38165672",
   "metadata": {},
   "outputs": [],
   "source": []
  }
 ],
 "metadata": {
  "kernelspec": {
   "display_name": "Python 3 (ipykernel)",
   "language": "python",
   "name": "python3"
  },
  "language_info": {
   "codemirror_mode": {
    "name": "ipython",
    "version": 3
   },
   "file_extension": ".py",
   "mimetype": "text/x-python",
   "name": "python",
   "nbconvert_exporter": "python",
   "pygments_lexer": "ipython3",
   "version": "3.9.13"
  }
 },
 "nbformat": 4,
 "nbformat_minor": 5
}
