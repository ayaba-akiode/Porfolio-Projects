{
 "cells": [
  {
   "cell_type": "markdown",
   "id": "08b2c0b7",
   "metadata": {},
   "source": [
    "# BMI CALCULATOR"
   ]
  },
  {
   "cell_type": "code",
   "execution_count": null,
   "id": "57ddeedd",
   "metadata": {},
   "outputs": [],
   "source": [
    "weight =input(\"Enter your weight in kg:\")\n"
   ]
  },
  {
   "cell_type": "code",
   "execution_count": null,
   "id": "73dce0f4",
   "metadata": {},
   "outputs": [],
   "source": [
    "weight = input()"
   ]
  },
  {
   "cell_type": "code",
   "execution_count": null,
   "id": "c3dff473",
   "metadata": {},
   "outputs": [],
   "source": [
    "70"
   ]
  },
  {
   "cell_type": "code",
   "execution_count": null,
   "id": "ad09dcb4",
   "metadata": {},
   "outputs": [],
   "source": [
    "print (weight)"
   ]
  },
  {
   "cell_type": "code",
   "execution_count": null,
   "id": "0a75d85a",
   "metadata": {},
   "outputs": [],
   "source": []
  },
  {
   "cell_type": "code",
   "execution_count": null,
   "id": "f8a590e7",
   "metadata": {},
   "outputs": [],
   "source": []
  },
  {
   "cell_type": "code",
   "execution_count": null,
   "id": "3ac15379",
   "metadata": {},
   "outputs": [],
   "source": []
  },
  {
   "cell_type": "code",
   "execution_count": null,
   "id": "af7ea5d7",
   "metadata": {},
   "outputs": [],
   "source": []
  },
  {
   "cell_type": "code",
   "execution_count": null,
   "id": "0d5c84f8",
   "metadata": {},
   "outputs": [],
   "source": []
  },
  {
   "cell_type": "code",
   "execution_count": null,
   "id": "a474ebcb",
   "metadata": {},
   "outputs": [],
   "source": []
  }
 ],
 "metadata": {
  "kernelspec": {
   "display_name": "Python 3 (ipykernel)",
   "language": "python",
   "name": "python3"
  },
  "language_info": {
   "codemirror_mode": {
    "name": "ipython",
    "version": 3
   },
   "file_extension": ".py",
   "mimetype": "text/x-python",
   "name": "python",
   "nbconvert_exporter": "python",
   "pygments_lexer": "ipython3",
   "version": "3.9.13"
  }
 },
 "nbformat": 4,
 "nbformat_minor": 5
}
